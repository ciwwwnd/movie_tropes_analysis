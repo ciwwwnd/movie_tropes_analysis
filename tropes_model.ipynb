{
  "nbformat": 4,
  "nbformat_minor": 0,
  "metadata": {
    "colab": {
      "name": "tropes_model.ipynb",
      "provenance": []
    },
    "kernelspec": {
      "name": "python3",
      "display_name": "Python 3"
    }
  },
  "cells": [
    {
      "cell_type": "markdown",
      "metadata": {
        "id": "SlQvNOu2E8ij"
      },
      "source": [
        "# Preprocessing data and creating a dataframe"
      ]
    },
    {
      "cell_type": "code",
      "metadata": {
        "colab": {
          "base_uri": "https://localhost:8080/"
        },
        "id": "gsyYCmjQbNg2",
        "outputId": "5b04285d-5436-4bf7-d1a4-bbe567b07e24"
      },
      "source": [
        "import pandas\n",
        "!pip install sklearn\n",
        "import sklearn\n",
        "from google.colab import files"
      ],
      "execution_count": 1,
      "outputs": [
        {
          "output_type": "stream",
          "text": [
            "Requirement already satisfied: sklearn in /usr/local/lib/python3.6/dist-packages (0.0)\n",
            "Requirement already satisfied: scikit-learn in /usr/local/lib/python3.6/dist-packages (from sklearn) (0.22.2.post1)\n",
            "Requirement already satisfied: joblib>=0.11 in /usr/local/lib/python3.6/dist-packages (from scikit-learn->sklearn) (1.0.0)\n",
            "Requirement already satisfied: numpy>=1.11.0 in /usr/local/lib/python3.6/dist-packages (from scikit-learn->sklearn) (1.19.5)\n",
            "Requirement already satisfied: scipy>=0.17.0 in /usr/local/lib/python3.6/dist-packages (from scikit-learn->sklearn) (1.4.1)\n"
          ],
          "name": "stdout"
        }
      ]
    },
    {
      "cell_type": "code",
      "metadata": {
        "colab": {
          "resources": {
            "http://localhost:8080/nbextensions/google.colab/files.js": {
              "data": "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",
              "ok": true,
              "headers": [
                [
                  "content-type",
                  "application/javascript"
                ]
              ],
              "status": 200,
              "status_text": ""
            }
          },
          "base_uri": "https://localhost:8080/",
          "height": 72
        },
        "id": "JDR-ix9MgPqd",
        "outputId": "1a8585eb-288e-4c44-ef06-23d032314420"
      },
      "source": [
        "corpus = files.upload()"
      ],
      "execution_count": 2,
      "outputs": [
        {
          "output_type": "display_data",
          "data": {
            "text/html": [
              "\n",
              "     <input type=\"file\" id=\"files-51f58ef5-52fd-4228-9306-a6268e6cbfbf\" name=\"files[]\" multiple disabled\n",
              "        style=\"border:none\" />\n",
              "     <output id=\"result-51f58ef5-52fd-4228-9306-a6268e6cbfbf\">\n",
              "      Upload widget is only available when the cell has been executed in the\n",
              "      current browser session. Please rerun this cell to enable.\n",
              "      </output>\n",
              "      <script src=\"/nbextensions/google.colab/files.js\"></script> "
            ],
            "text/plain": [
              "<IPython.core.display.HTML object>"
            ]
          },
          "metadata": {
            "tags": []
          }
        },
        {
          "output_type": "stream",
          "text": [
            "Saving out1.csv to out1.csv\n"
          ],
          "name": "stdout"
        }
      ]
    },
    {
      "cell_type": "code",
      "metadata": {
        "id": "JGUrm0QDcJ35"
      },
      "source": [
        "df = pandas.read_csv('out1.csv', usecols=['tropes', 'movielens_genres', 'rating'])"
      ],
      "execution_count": 3,
      "outputs": []
    },
    {
      "cell_type": "code",
      "metadata": {
        "colab": {
          "base_uri": "https://localhost:8080/",
          "height": 142
        },
        "id": "CY5fwGkfCWUt",
        "outputId": "4bb26f36-ba53-4dc3-ea87-efd47c79e1a9"
      },
      "source": [
        "df.sample(3)"
      ],
      "execution_count": 4,
      "outputs": [
        {
          "output_type": "execute_result",
          "data": {
            "text/html": [
              "<div>\n",
              "<style scoped>\n",
              "    .dataframe tbody tr th:only-of-type {\n",
              "        vertical-align: middle;\n",
              "    }\n",
              "\n",
              "    .dataframe tbody tr th {\n",
              "        vertical-align: top;\n",
              "    }\n",
              "\n",
              "    .dataframe thead th {\n",
              "        text-align: right;\n",
              "    }\n",
              "</style>\n",
              "<table border=\"1\" class=\"dataframe\">\n",
              "  <thead>\n",
              "    <tr style=\"text-align: right;\">\n",
              "      <th></th>\n",
              "      <th>tropes</th>\n",
              "      <th>movielens_genres</th>\n",
              "      <th>rating</th>\n",
              "    </tr>\n",
              "  </thead>\n",
              "  <tbody>\n",
              "    <tr>\n",
              "      <th>4420</th>\n",
              "      <td>AffectionateNickname|AllPartOfTheShow|Ambiguou...</td>\n",
              "      <td>Comedy|Romance</td>\n",
              "      <td>7.2</td>\n",
              "    </tr>\n",
              "    <tr>\n",
              "      <th>5061</th>\n",
              "      <td>ABoyAndHisX|AlliterativeTitle|ArtisticLicenseA...</td>\n",
              "      <td>Drama|Thriller</td>\n",
              "      <td>5.5</td>\n",
              "    </tr>\n",
              "    <tr>\n",
              "      <th>2173</th>\n",
              "      <td>AsYouKnow|AwfulWeddedLife|Blackmail|CallBack|C...</td>\n",
              "      <td>Drama</td>\n",
              "      <td>7.4</td>\n",
              "    </tr>\n",
              "  </tbody>\n",
              "</table>\n",
              "</div>"
            ],
            "text/plain": [
              "                                                 tropes  ... rating\n",
              "4420  AffectionateNickname|AllPartOfTheShow|Ambiguou...  ...    7.2\n",
              "5061  ABoyAndHisX|AlliterativeTitle|ArtisticLicenseA...  ...    5.5\n",
              "2173  AsYouKnow|AwfulWeddedLife|Blackmail|CallBack|C...  ...    7.4\n",
              "\n",
              "[3 rows x 3 columns]"
            ]
          },
          "metadata": {
            "tags": []
          },
          "execution_count": 4
        }
      ]
    },
    {
      "cell_type": "code",
      "metadata": {
        "id": "1ezlNh8kl-zf"
      },
      "source": [
        "df = df.dropna()"
      ],
      "execution_count": 5,
      "outputs": []
    },
    {
      "cell_type": "code",
      "metadata": {
        "colab": {
          "base_uri": "https://localhost:8080/"
        },
        "id": "TKgJYlz9C0mT",
        "outputId": "a394a4d7-12b9-461e-9dc2-b12ff952d338"
      },
      "source": [
        "new_tropes = []\n",
        "new_rating = []\n",
        "new_genres = []\n",
        "for i in range(len(df['tropes'])):\n",
        "  tropes = df['tropes'].values[i].split('|')\n",
        "  for t in range(len(tropes)):\n",
        "      new_tropes.append(tropes[t])\n",
        "      new_rating.append(df['rating'].values[i])\n",
        "      new_genres.append(df['movielens_genres'].values[i])\n",
        "print(len(new_tropes), len(new_rating), len(new_genres))"
      ],
      "execution_count": 6,
      "outputs": [
        {
          "output_type": "stream",
          "text": [
            "539877 539877 539877\n"
          ],
          "name": "stdout"
        }
      ]
    },
    {
      "cell_type": "code",
      "metadata": {
        "colab": {
          "base_uri": "https://localhost:8080/"
        },
        "id": "s4fWDGmEL-4B",
        "outputId": "ffc45e93-dbec-4302-e14c-6c20d640393d"
      },
      "source": [
        "tropes = []\n",
        "rating = []\n",
        "genres = []\n",
        "for k in range(len(new_genres)):\n",
        "  if type(new_genres[k]) == float:\n",
        "    pass\n",
        "  else:\n",
        "    all_genres = new_genres[k].split('|')\n",
        "    for a in range(len(all_genres)):\n",
        "      tropes.append(new_tropes[k])\n",
        "      rating.append(new_rating[k])\n",
        "      genres.append(all_genres[a])\n",
        "print(len(tropes), len(genres), len(rating))"
      ],
      "execution_count": 7,
      "outputs": [
        {
          "output_type": "stream",
          "text": [
            "1380718 1380718 1380718\n"
          ],
          "name": "stdout"
        }
      ]
    },
    {
      "cell_type": "code",
      "metadata": {
        "colab": {
          "base_uri": "https://localhost:8080/",
          "height": 142
        },
        "id": "7KUVGt_7DiZL",
        "outputId": "eb08731f-6dde-4fb4-d2f8-a459d79c3ecc"
      },
      "source": [
        "data = {'trope': tropes,\n",
        "        'genre': genres,\n",
        "        'rating': rating}\n",
        "df = pandas.DataFrame(data, columns=['trope', 'genre', 'rating'])\n",
        "\n",
        "df.sample(3)"
      ],
      "execution_count": 8,
      "outputs": [
        {
          "output_type": "execute_result",
          "data": {
            "text/html": [
              "<div>\n",
              "<style scoped>\n",
              "    .dataframe tbody tr th:only-of-type {\n",
              "        vertical-align: middle;\n",
              "    }\n",
              "\n",
              "    .dataframe tbody tr th {\n",
              "        vertical-align: top;\n",
              "    }\n",
              "\n",
              "    .dataframe thead th {\n",
              "        text-align: right;\n",
              "    }\n",
              "</style>\n",
              "<table border=\"1\" class=\"dataframe\">\n",
              "  <thead>\n",
              "    <tr style=\"text-align: right;\">\n",
              "      <th></th>\n",
              "      <th>trope</th>\n",
              "      <th>genre</th>\n",
              "      <th>rating</th>\n",
              "    </tr>\n",
              "  </thead>\n",
              "  <tbody>\n",
              "    <tr>\n",
              "      <th>370614</th>\n",
              "      <td>EyepatchOfPower</td>\n",
              "      <td>Crime</td>\n",
              "      <td>7.5</td>\n",
              "    </tr>\n",
              "    <tr>\n",
              "      <th>783755</th>\n",
              "      <td>RuleOfSymbolism</td>\n",
              "      <td>Horror</td>\n",
              "      <td>5.4</td>\n",
              "    </tr>\n",
              "    <tr>\n",
              "      <th>107896</th>\n",
              "      <td>RealityEnsues</td>\n",
              "      <td>Thriller</td>\n",
              "      <td>6.5</td>\n",
              "    </tr>\n",
              "  </tbody>\n",
              "</table>\n",
              "</div>"
            ],
            "text/plain": [
              "                  trope     genre  rating\n",
              "370614  EyepatchOfPower     Crime     7.5\n",
              "783755  RuleOfSymbolism    Horror     5.4\n",
              "107896    RealityEnsues  Thriller     6.5"
            ]
          },
          "metadata": {
            "tags": []
          },
          "execution_count": 8
        }
      ]
    },
    {
      "cell_type": "code",
      "metadata": {
        "id": "H9J-2aw9R5v8"
      },
      "source": [
        "df = df.sample(frac=1).reset_index(drop=True)"
      ],
      "execution_count": 9,
      "outputs": []
    },
    {
      "cell_type": "code",
      "metadata": {
        "id": "4P__qgGnU7Jq"
      },
      "source": [
        "import numpy as np\n",
        "\n",
        "df = np.array_split(df, 10)[0]"
      ],
      "execution_count": 10,
      "outputs": []
    },
    {
      "cell_type": "code",
      "metadata": {
        "colab": {
          "base_uri": "https://localhost:8080/",
          "height": 129
        },
        "id": "WC1RKLNfZ_z7",
        "outputId": "f3de0df0-2db1-4eed-fad3-7948ab3945d7"
      },
      "source": [
        "one_hot = pandas.get_dummies(df['trope'])\n",
        "df = df.drop('trope',axis = 1)\n",
        "df = df.join(one_hot)\n",
        "df.sample()"
      ],
      "execution_count": 11,
      "outputs": [
        {
          "output_type": "execute_result",
          "data": {
            "text/html": [
              "<div>\n",
              "<style scoped>\n",
              "    .dataframe tbody tr th:only-of-type {\n",
              "        vertical-align: middle;\n",
              "    }\n",
              "\n",
              "    .dataframe tbody tr th {\n",
              "        vertical-align: top;\n",
              "    }\n",
              "\n",
              "    .dataframe thead th {\n",
              "        text-align: right;\n",
              "    }\n",
              "</style>\n",
              "<table border=\"1\" class=\"dataframe\">\n",
              "  <thead>\n",
              "    <tr style=\"text-align: right;\">\n",
              "      <th></th>\n",
              "      <th>genre</th>\n",
              "      <th>rating</th>\n",
              "      <th>ABNegative</th>\n",
              "      <th>ABirthdayNotABreak</th>\n",
              "      <th>ABloodyMess</th>\n",
              "      <th>ABoyAndHisX</th>\n",
              "      <th>AChatWithSatan</th>\n",
              "      <th>AChildShallLeadThem</th>\n",
              "      <th>ACupAngst</th>\n",
              "      <th>ADateWithRosiePalms</th>\n",
              "      <th>ADayInHerApron</th>\n",
              "      <th>ADayInTheLimeLight</th>\n",
              "      <th>ADayInTheLimelight</th>\n",
              "      <th>ADeathInTheLimelight</th>\n",
              "      <th>ADickInName</th>\n",
              "      <th>ADogAteMyHomework</th>\n",
              "      <th>ADogNamedDog</th>\n",
              "      <th>ADorkable</th>\n",
              "      <th>AFamilyAffair</th>\n",
              "      <th>AFateWorseThanDeath</th>\n",
              "      <th>AFatherToHisMen</th>\n",
              "      <th>AFeteWorseThanDeath</th>\n",
              "      <th>AFistfulOfRehashes</th>\n",
              "      <th>AFoggyDayInLondonTown</th>\n",
              "      <th>AFoolAndHisNewMoneyAreSoonParted</th>\n",
              "      <th>AFormYouAreComfortableWith</th>\n",
              "      <th>AFriendInNeed</th>\n",
              "      <th>AGlassInTheHand</th>\n",
              "      <th>AGlassOfChianti</th>\n",
              "      <th>AGlitchInTheMatrix</th>\n",
              "      <th>AGodAmI</th>\n",
              "      <th>AGodIAmNot</th>\n",
              "      <th>AGoodNameForARockBand</th>\n",
              "      <th>AGoodWayToDie</th>\n",
              "      <th>AHandfulForAnEye</th>\n",
              "      <th>AHeadAtEachEnd</th>\n",
              "      <th>AHeroIsBorn</th>\n",
              "      <th>AHeroToHisHometown</th>\n",
              "      <th>AHouseDivided</th>\n",
              "      <th>AICronym</th>\n",
              "      <th>...</th>\n",
              "      <th>YoureInsane</th>\n",
              "      <th>YoureJustJealous</th>\n",
              "      <th>YoureNotMyFather</th>\n",
              "      <th>YoureNotMyMother</th>\n",
              "      <th>YoureNotMyType</th>\n",
              "      <th>YouthIsWastedOnTheDumb</th>\n",
              "      <th>YouthfulFreckles</th>\n",
              "      <th>Yubitsume</th>\n",
              "      <th>YuppieCouple</th>\n",
              "      <th>ZanyScheme</th>\n",
              "      <th>Zeerust</th>\n",
              "      <th>ZeerustCanon</th>\n",
              "      <th>ZenSurvivor</th>\n",
              "      <th>ZeppelinsFromAnotherWorld</th>\n",
              "      <th>ZergRush</th>\n",
              "      <th>ZeroApprovalGambit</th>\n",
              "      <th>ZeroChops</th>\n",
              "      <th>ZeroEffortBoss</th>\n",
              "      <th>ZeroGSpot</th>\n",
              "      <th>ZeroPercentApprovalRating</th>\n",
              "      <th>ZerothLawRebellion</th>\n",
              "      <th>ZettaiRyouiki</th>\n",
              "      <th>ZigZagged</th>\n",
              "      <th>ZigZaggedTrope</th>\n",
              "      <th>ZigZaggedtrope</th>\n",
              "      <th>ZigZaggingTrope</th>\n",
              "      <th>ZiggZagged</th>\n",
              "      <th>Zigzagged</th>\n",
              "      <th>ZigzaggedTrope</th>\n",
              "      <th>ZigzaggingTrope</th>\n",
              "      <th>ZillionDollarBill</th>\n",
              "      <th>ZipMeUp</th>\n",
              "      <th>ZippingUpTheBodyBag</th>\n",
              "      <th>ZippingUpTheBodybag</th>\n",
              "      <th>ZombieAdvocate</th>\n",
              "      <th>ZombieApocalypse</th>\n",
              "      <th>ZombieGait</th>\n",
              "      <th>ZombieInfectee</th>\n",
              "      <th>ZombieMooks</th>\n",
              "      <th>ZorroMark</th>\n",
              "    </tr>\n",
              "  </thead>\n",
              "  <tbody>\n",
              "    <tr>\n",
              "      <th>85729</th>\n",
              "      <td>Children</td>\n",
              "      <td>5.3</td>\n",
              "      <td>0</td>\n",
              "      <td>0</td>\n",
              "      <td>0</td>\n",
              "      <td>0</td>\n",
              "      <td>0</td>\n",
              "      <td>0</td>\n",
              "      <td>0</td>\n",
              "      <td>0</td>\n",
              "      <td>0</td>\n",
              "      <td>0</td>\n",
              "      <td>0</td>\n",
              "      <td>0</td>\n",
              "      <td>0</td>\n",
              "      <td>0</td>\n",
              "      <td>0</td>\n",
              "      <td>0</td>\n",
              "      <td>0</td>\n",
              "      <td>0</td>\n",
              "      <td>0</td>\n",
              "      <td>0</td>\n",
              "      <td>0</td>\n",
              "      <td>0</td>\n",
              "      <td>0</td>\n",
              "      <td>0</td>\n",
              "      <td>0</td>\n",
              "      <td>0</td>\n",
              "      <td>0</td>\n",
              "      <td>0</td>\n",
              "      <td>0</td>\n",
              "      <td>0</td>\n",
              "      <td>0</td>\n",
              "      <td>0</td>\n",
              "      <td>0</td>\n",
              "      <td>0</td>\n",
              "      <td>0</td>\n",
              "      <td>0</td>\n",
              "      <td>0</td>\n",
              "      <td>0</td>\n",
              "      <td>...</td>\n",
              "      <td>0</td>\n",
              "      <td>0</td>\n",
              "      <td>0</td>\n",
              "      <td>0</td>\n",
              "      <td>0</td>\n",
              "      <td>0</td>\n",
              "      <td>0</td>\n",
              "      <td>0</td>\n",
              "      <td>0</td>\n",
              "      <td>0</td>\n",
              "      <td>0</td>\n",
              "      <td>0</td>\n",
              "      <td>0</td>\n",
              "      <td>0</td>\n",
              "      <td>0</td>\n",
              "      <td>0</td>\n",
              "      <td>0</td>\n",
              "      <td>0</td>\n",
              "      <td>0</td>\n",
              "      <td>0</td>\n",
              "      <td>0</td>\n",
              "      <td>0</td>\n",
              "      <td>0</td>\n",
              "      <td>0</td>\n",
              "      <td>0</td>\n",
              "      <td>0</td>\n",
              "      <td>0</td>\n",
              "      <td>0</td>\n",
              "      <td>0</td>\n",
              "      <td>0</td>\n",
              "      <td>0</td>\n",
              "      <td>0</td>\n",
              "      <td>0</td>\n",
              "      <td>0</td>\n",
              "      <td>0</td>\n",
              "      <td>0</td>\n",
              "      <td>0</td>\n",
              "      <td>0</td>\n",
              "      <td>0</td>\n",
              "      <td>0</td>\n",
              "    </tr>\n",
              "  </tbody>\n",
              "</table>\n",
              "<p>1 rows × 17640 columns</p>\n",
              "</div>"
            ],
            "text/plain": [
              "          genre  rating  ABNegative  ...  ZombieInfectee  ZombieMooks  ZorroMark\n",
              "85729  Children     5.3           0  ...               0            0          0\n",
              "\n",
              "[1 rows x 17640 columns]"
            ]
          },
          "metadata": {
            "tags": []
          },
          "execution_count": 11
        }
      ]
    },
    {
      "cell_type": "code",
      "metadata": {
        "id": "ku-daGKhhJzJ"
      },
      "source": [
        "df = df.drop(columns=['genre'])"
      ],
      "execution_count": 12,
      "outputs": []
    },
    {
      "cell_type": "code",
      "metadata": {
        "colab": {
          "base_uri": "https://localhost:8080/",
          "height": 129
        },
        "id": "EjlBxjgYRgvt",
        "outputId": "ed63c3da-88c8-48d6-fe4d-f6d046851580"
      },
      "source": [
        "from sklearn.model_selection import train_test_split\n",
        "\n",
        "train_df, test_df = train_test_split(df, test_size=0.2)\n",
        "train_df.sample()"
      ],
      "execution_count": 11,
      "outputs": [
        {
          "output_type": "execute_result",
          "data": {
            "text/html": [
              "<div>\n",
              "<style scoped>\n",
              "    .dataframe tbody tr th:only-of-type {\n",
              "        vertical-align: middle;\n",
              "    }\n",
              "\n",
              "    .dataframe tbody tr th {\n",
              "        vertical-align: top;\n",
              "    }\n",
              "\n",
              "    .dataframe thead th {\n",
              "        text-align: right;\n",
              "    }\n",
              "</style>\n",
              "<table border=\"1\" class=\"dataframe\">\n",
              "  <thead>\n",
              "    <tr style=\"text-align: right;\">\n",
              "      <th></th>\n",
              "      <th>rating</th>\n",
              "      <th>ABNegative</th>\n",
              "      <th>ABirthdayNotABreak</th>\n",
              "      <th>ABloodyMess</th>\n",
              "      <th>ABoyAGirlAndABabyFamily</th>\n",
              "      <th>ABoyAndHisX</th>\n",
              "      <th>AChildShallLeadThem</th>\n",
              "      <th>ACupAngst</th>\n",
              "      <th>ADarkerMe</th>\n",
              "      <th>ADateWithRosiePalms</th>\n",
              "      <th>ADayInHerApron</th>\n",
              "      <th>ADayInTheLimelight</th>\n",
              "      <th>ADeadlyAffair</th>\n",
              "      <th>ADegreeInUseless</th>\n",
              "      <th>ADickInName</th>\n",
              "      <th>ADogAteMyHomework</th>\n",
              "      <th>ADogNamedDog</th>\n",
              "      <th>AFIS100Years100MovieQuotes</th>\n",
              "      <th>AFateWorseThanDeath</th>\n",
              "      <th>AFatherToHisMen</th>\n",
              "      <th>AFeteWorseThanDeath</th>\n",
              "      <th>AFistfulOfRehashes</th>\n",
              "      <th>AFoggyDayInLondonTown</th>\n",
              "      <th>AFoolAndHisNewMoneyAreSoonParted</th>\n",
              "      <th>AFoolForAClient</th>\n",
              "      <th>AFormYouAreComfortableWith</th>\n",
              "      <th>AFriendInNeed</th>\n",
              "      <th>AGlassInTheHand</th>\n",
              "      <th>AGlassOfChianti</th>\n",
              "      <th>AGlitchInTheMatrix</th>\n",
              "      <th>AGodAmI</th>\n",
              "      <th>AGodIAmNot</th>\n",
              "      <th>AGoodNameForARockBand</th>\n",
              "      <th>AGoodWayToDie</th>\n",
              "      <th>AHandfulForAnEye</th>\n",
              "      <th>AHeadAtEachEnd</th>\n",
              "      <th>AHellOfATime</th>\n",
              "      <th>AHeroToHisHometown</th>\n",
              "      <th>AHouseDivided</th>\n",
              "      <th>AIIsACrapshoot</th>\n",
              "      <th>...</th>\n",
              "      <th>YoureCuteWhenYoureAngry</th>\n",
              "      <th>YoureInsane</th>\n",
              "      <th>YoureJustJealous</th>\n",
              "      <th>YoureNotMyFather</th>\n",
              "      <th>YoureNotMyMother</th>\n",
              "      <th>YoureNotMyType</th>\n",
              "      <th>YoureNothingWithoutYourPhlebotinum</th>\n",
              "      <th>YouthIsWastedOnTheDumb</th>\n",
              "      <th>YouthfulFreckles</th>\n",
              "      <th>YouveGottaBeKiddingMe</th>\n",
              "      <th>Yubitsume</th>\n",
              "      <th>YuppieCouple</th>\n",
              "      <th>ZanyScheme</th>\n",
              "      <th>Zeerust</th>\n",
              "      <th>ZeerustCanon</th>\n",
              "      <th>ZenSurvivor</th>\n",
              "      <th>ZeppelinsFromAnotherWorld</th>\n",
              "      <th>ZergRush</th>\n",
              "      <th>ZeroApprovalGambit</th>\n",
              "      <th>ZeroChops</th>\n",
              "      <th>ZeroGSpot</th>\n",
              "      <th>ZeroPercentApprovalRating</th>\n",
              "      <th>ZeroesAndOnes</th>\n",
              "      <th>ZerothLawRebellion</th>\n",
              "      <th>ZettaiRyouiki</th>\n",
              "      <th>ZigZagged</th>\n",
              "      <th>ZigZaggedTrope</th>\n",
              "      <th>ZigZaggedtrope</th>\n",
              "      <th>ZigZaggingTrope</th>\n",
              "      <th>Zigzagged</th>\n",
              "      <th>ZigzaggedTrope</th>\n",
              "      <th>ZigzaggingTrope</th>\n",
              "      <th>ZillionDollarBill</th>\n",
              "      <th>ZipMeUp</th>\n",
              "      <th>ZippingUpTheBodyBag</th>\n",
              "      <th>ZippingUpTheBodybag</th>\n",
              "      <th>ZombieApocalypse</th>\n",
              "      <th>ZombieGait</th>\n",
              "      <th>ZombieInfectee</th>\n",
              "      <th>ZorroMark</th>\n",
              "    </tr>\n",
              "  </thead>\n",
              "  <tbody>\n",
              "    <tr>\n",
              "      <th>88120</th>\n",
              "      <td>6.7</td>\n",
              "      <td>0</td>\n",
              "      <td>0</td>\n",
              "      <td>0</td>\n",
              "      <td>0</td>\n",
              "      <td>0</td>\n",
              "      <td>0</td>\n",
              "      <td>0</td>\n",
              "      <td>0</td>\n",
              "      <td>0</td>\n",
              "      <td>0</td>\n",
              "      <td>0</td>\n",
              "      <td>0</td>\n",
              "      <td>0</td>\n",
              "      <td>0</td>\n",
              "      <td>0</td>\n",
              "      <td>0</td>\n",
              "      <td>0</td>\n",
              "      <td>0</td>\n",
              "      <td>0</td>\n",
              "      <td>0</td>\n",
              "      <td>0</td>\n",
              "      <td>0</td>\n",
              "      <td>0</td>\n",
              "      <td>0</td>\n",
              "      <td>0</td>\n",
              "      <td>0</td>\n",
              "      <td>0</td>\n",
              "      <td>0</td>\n",
              "      <td>0</td>\n",
              "      <td>0</td>\n",
              "      <td>0</td>\n",
              "      <td>0</td>\n",
              "      <td>0</td>\n",
              "      <td>0</td>\n",
              "      <td>0</td>\n",
              "      <td>0</td>\n",
              "      <td>0</td>\n",
              "      <td>0</td>\n",
              "      <td>0</td>\n",
              "      <td>...</td>\n",
              "      <td>0</td>\n",
              "      <td>0</td>\n",
              "      <td>0</td>\n",
              "      <td>0</td>\n",
              "      <td>0</td>\n",
              "      <td>0</td>\n",
              "      <td>0</td>\n",
              "      <td>0</td>\n",
              "      <td>0</td>\n",
              "      <td>0</td>\n",
              "      <td>0</td>\n",
              "      <td>0</td>\n",
              "      <td>0</td>\n",
              "      <td>0</td>\n",
              "      <td>0</td>\n",
              "      <td>0</td>\n",
              "      <td>0</td>\n",
              "      <td>0</td>\n",
              "      <td>0</td>\n",
              "      <td>0</td>\n",
              "      <td>0</td>\n",
              "      <td>0</td>\n",
              "      <td>0</td>\n",
              "      <td>0</td>\n",
              "      <td>0</td>\n",
              "      <td>0</td>\n",
              "      <td>0</td>\n",
              "      <td>0</td>\n",
              "      <td>0</td>\n",
              "      <td>0</td>\n",
              "      <td>0</td>\n",
              "      <td>0</td>\n",
              "      <td>0</td>\n",
              "      <td>0</td>\n",
              "      <td>0</td>\n",
              "      <td>0</td>\n",
              "      <td>0</td>\n",
              "      <td>0</td>\n",
              "      <td>0</td>\n",
              "      <td>0</td>\n",
              "    </tr>\n",
              "  </tbody>\n",
              "</table>\n",
              "<p>1 rows × 17490 columns</p>\n",
              "</div>"
            ],
            "text/plain": [
              "       rating  ABNegative  ...  ZombieInfectee  ZorroMark\n",
              "88120     6.7           0  ...               0          0\n",
              "\n",
              "[1 rows x 17490 columns]"
            ]
          },
          "metadata": {
            "tags": []
          },
          "execution_count": 11
        }
      ]
    },
    {
      "cell_type": "markdown",
      "metadata": {
        "id": "FiMYtlCfFOoh"
      },
      "source": [
        "# Create and train the model"
      ]
    },
    {
      "cell_type": "code",
      "metadata": {
        "id": "VP18PCkPEw0e"
      },
      "source": [
        "from sklearn.linear_model import LinearRegression"
      ],
      "execution_count": 12,
      "outputs": []
    },
    {
      "cell_type": "code",
      "metadata": {
        "id": "nJGDOG5NtlN2"
      },
      "source": [
        "y_train = train_df['rating']\n",
        "y_test = test_df['rating']\n",
        "x_train = train_df.drop(columns=['rating'])\n",
        "x_test = test_df.drop(columns=['rating'])"
      ],
      "execution_count": 13,
      "outputs": []
    },
    {
      "cell_type": "code",
      "metadata": {
        "id": "uDLE3SkduyGx"
      },
      "source": [
        "x_train = x_train.values"
      ],
      "execution_count": 15,
      "outputs": []
    },
    {
      "cell_type": "code",
      "metadata": {
        "id": "40S7XMh7u10y"
      },
      "source": [
        "y_train = y_train.values.reshape(110457, 1)"
      ],
      "execution_count": 16,
      "outputs": []
    },
    {
      "cell_type": "code",
      "metadata": {
        "id": "0gqQweVsqaLl"
      },
      "source": [
        "reg = LinearRegression()\n",
        "reg.fit(x_train, y_train)"
      ],
      "execution_count": null,
      "outputs": []
    },
    {
      "cell_type": "code",
      "metadata": {
        "id": "bel1Pg0pSZzL"
      },
      "source": [
        "r_sq = model.score(x, y)"
      ],
      "execution_count": null,
      "outputs": []
    }
  ]
}